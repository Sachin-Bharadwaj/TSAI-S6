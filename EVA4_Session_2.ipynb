{
 "cells": [
  {
   "cell_type": "code",
   "execution_count": 1,
   "metadata": {
    "id": "0m2JWFliFfKT"
   },
   "outputs": [],
   "source": [
    "from __future__ import print_function\n",
    "import torch\n",
    "import torch.nn as nn\n",
    "import torch.nn.functional as F\n",
    "import torch.optim as optim\n",
    "from torchvision import datasets, transforms"
   ]
  },
  {
   "cell_type": "code",
   "execution_count": 103,
   "metadata": {},
   "outputs": [],
   "source": [
    "class Net(nn.Module):\n",
    "    def __init__(self):\n",
    "        super(Net, self).__init__()\n",
    "        self.conv1 = nn.Conv2d(1, 8, 3, padding=0, bias=False) #28x28x1 -> 26x26x8, RF:3\n",
    "        self.bn1 = nn.BatchNorm2d(8)\n",
    "        self.conv2 = nn.Conv2d(8, 8, 3, padding=0, bias=False) # 26x26x8 -> 24x24x8, RF:5\n",
    "        self.bn2 = nn.BatchNorm2d(8)\n",
    "        self.conv3 = nn.Conv2d(8, 8, 3, padding=0, bias=False) # 24x24x8 -> 22x22x8, RF:7\n",
    "        self.bn3 = nn.BatchNorm2d(8)\n",
    "        self.pool1 = nn.MaxPool2d(2, 2) # 11x11x8, RF:8\n",
    "        self.conv4 = nn.Conv2d(8, 16, 3, padding=0, bias=False) # 11x11x8 -> 9x9x16, RF:12  \n",
    "        self.bn4 = nn.BatchNorm2d(16)\n",
    "        self.conv5 = nn.Conv2d(16, 16, 3, padding=0, bias=False) # 9x9x16 -> 7x7x16, RF:16 \n",
    "        self.bn5 = nn.BatchNorm2d(16)\n",
    "        self.conv6 = nn.Conv2d(16, 16, 3, padding=0, bias=False) # 7x7x16 -> 5x5x16, RF:20\n",
    "        self.bn6 = nn.BatchNorm2d(16)\n",
    "        self.conv7 = nn.Conv2d(16, 16, 3, padding=0, bias=False) # 5x5x16- > 3x3x16, RF:24\n",
    "        self.bn7 = nn.BatchNorm2d(16)\n",
    "        self.conv8 = nn.Conv2d(16, 32, 3, padding=0, bias=False) # 3x3x16- > 1x1x16, RF:28\n",
    "        #self.gap = nn.AvgPool2d(3) # 3x3x16 -> 1x1x16\n",
    "        self.op = nn.Conv2d(32, 10, 1, 1, padding=0, bias=False)\n",
    "        \n",
    "    def forward(self, x):\n",
    "        x = self.bn1(F.relu(self.conv1(x)))\n",
    "        x = self.bn2(F.relu(self.conv2(x)))\n",
    "        x = self.bn3(F.relu(self.conv3(x)))\n",
    "        \n",
    "        x = self.pool1(x)\n",
    "        \n",
    "        x = self.bn4(F.relu(self.conv4(x)))\n",
    "        x = self.bn5(F.relu(self.conv5(x)))\n",
    "        x = self.bn6(F.relu(self.conv6(x)))\n",
    "        x = self.bn7(F.relu(self.conv7(x)))\n",
    "        \n",
    "        x = F.relu(self.conv8(x))\n",
    "        #x = self.gap(x)\n",
    "        x = self.op(x)\n",
    "        \n",
    "        x = x.squeeze(dim=(-2,-1))        \n",
    "        return F.log_softmax(x, dim=-1)\n",
    "        \n",
    "        "
   ]
  },
  {
   "cell_type": "code",
   "execution_count": 118,
   "metadata": {},
   "outputs": [],
   "source": [
    "class Net(nn.Module):\n",
    "    def __init__(self):\n",
    "        super(Net, self).__init__()\n",
    "        self.conv1 = nn.Conv2d(1, 8, 3, padding=1, bias=False) #28x28x1 -> 28x28x8, RF:3\n",
    "        self.bn1 = nn.BatchNorm2d(8)\n",
    "        self.conv2 = nn.Conv2d(8, 8, 3, padding=1, bias=False) # 28x28x8 -> 28x28x8, RF:5\n",
    "        self.bn2 = nn.BatchNorm2d(8)\n",
    "        self.conv3 = nn.Conv2d(8, 8, 3, padding=1, bias=False) # 28x28x8 -> 28x28x8, RF:7\n",
    "        self.bn3 = nn.BatchNorm2d(8)\n",
    "        self.pool1 = nn.MaxPool2d(2, 2) # 14x14x8, RF:8\n",
    "        self.dp = nn.Dropout(p=0.2)\n",
    "        self.conv4 = nn.Conv2d(8, 16, 3, padding=0, bias=False) # 14x14x8 -> 12x12x16, RF:12  \n",
    "        self.bn4 = nn.BatchNorm2d(16)\n",
    "        self.conv5 = nn.Conv2d(16, 16, 3, padding=0, bias=False) # 12x12x16 -> 10x10x16, RF:16 \n",
    "        self.bn5 = nn.BatchNorm2d(16)\n",
    "        self.conv6 = nn.Conv2d(16, 16, 3, padding=0, bias=False) # 10x10x16 -> 8x8x16, RF:20\n",
    "        self.bn6 = nn.BatchNorm2d(16)\n",
    "        self.conv7 = nn.Conv2d(16, 16, 3, padding=0, bias=False) # 8x8x16- > 6x6x16, RF:24\n",
    "        self.bn7 = nn.BatchNorm2d(16)\n",
    "        self.conv8 = nn.Conv2d(16, 32, 3, padding=0, bias=False) # 6x6x16- > 4x4x16, RF:28\n",
    "        self.gap = nn.AvgPool2d(4) # 4x4x16 -> 1x1x16\n",
    "        self.op = nn.Conv2d(32, 10, 1, 1, padding=0, bias=False)\n",
    "        \n",
    "    def forward(self, x):\n",
    "        x = self.bn1(F.relu(self.conv1(x)))\n",
    "        x = self.bn2(F.relu(self.conv2(x)))\n",
    "        x = self.bn3(F.relu(self.conv3(x)))\n",
    "        \n",
    "        x = self.pool1(x)\n",
    "        x = self.dp(x)\n",
    "        \n",
    "        x = self.bn4(F.relu(self.conv4(x)))\n",
    "        x = self.bn5(F.relu(self.conv5(x)))\n",
    "        x = self.bn6(F.relu(self.conv6(x)))\n",
    "        x = self.bn7(F.relu(self.conv7(x)))\n",
    "        \n",
    "        x = F.relu(self.conv8(x))\n",
    "        x = self.gap(x)\n",
    "        x = self.op(x)\n",
    "        \n",
    "        x = x.squeeze(dim=(-2,-1))        \n",
    "        return F.log_softmax(x, dim=-1)\n",
    "        \n",
    "        "
   ]
  },
  {
   "cell_type": "code",
   "execution_count": 119,
   "metadata": {},
   "outputs": [
    {
     "data": {
      "text/plain": [
       "torch.Size([10])"
      ]
     },
     "execution_count": 119,
     "metadata": {},
     "output_type": "execute_result"
    }
   ],
   "source": [
    "model = Net().to(device)\n",
    "xx = torch.randn(1,1,28,28).to(device)\n",
    "yy = model(xx)\n",
    "yy.squeeze(dim=(-1,-2)).shape"
   ]
  },
  {
   "cell_type": "code",
   "execution_count": 120,
   "metadata": {
    "id": "xdydjYTZFyi3"
   },
   "outputs": [
    {
     "name": "stdout",
     "output_type": "stream",
     "text": [
      "Requirement already satisfied: torchsummary in c:\\users\\sachin\\anaconda3\\envs\\cvaiac2023\\lib\\site-packages (1.5.1)\n",
      "----------------------------------------------------------------\n",
      "        Layer (type)               Output Shape         Param #\n",
      "================================================================\n",
      "            Conv2d-1            [-1, 8, 28, 28]              72\n",
      "       BatchNorm2d-2            [-1, 8, 28, 28]              16\n",
      "            Conv2d-3            [-1, 8, 28, 28]             576\n",
      "       BatchNorm2d-4            [-1, 8, 28, 28]              16\n",
      "            Conv2d-5            [-1, 8, 28, 28]             576\n",
      "       BatchNorm2d-6            [-1, 8, 28, 28]              16\n",
      "         MaxPool2d-7            [-1, 8, 14, 14]               0\n",
      "           Dropout-8            [-1, 8, 14, 14]               0\n",
      "            Conv2d-9           [-1, 16, 12, 12]           1,152\n",
      "      BatchNorm2d-10           [-1, 16, 12, 12]              32\n",
      "           Conv2d-11           [-1, 16, 10, 10]           2,304\n",
      "      BatchNorm2d-12           [-1, 16, 10, 10]              32\n",
      "           Conv2d-13             [-1, 16, 8, 8]           2,304\n",
      "      BatchNorm2d-14             [-1, 16, 8, 8]              32\n",
      "           Conv2d-15             [-1, 16, 6, 6]           2,304\n",
      "      BatchNorm2d-16             [-1, 16, 6, 6]              32\n",
      "           Conv2d-17             [-1, 32, 4, 4]           4,608\n",
      "        AvgPool2d-18             [-1, 32, 1, 1]               0\n",
      "           Conv2d-19             [-1, 10, 1, 1]             320\n",
      "================================================================\n",
      "Total params: 14,392\n",
      "Trainable params: 14,392\n",
      "Non-trainable params: 0\n",
      "----------------------------------------------------------------\n",
      "Input size (MB): 0.00\n",
      "Forward/backward pass size (MB): 0.40\n",
      "Params size (MB): 0.05\n",
      "Estimated Total Size (MB): 0.46\n",
      "----------------------------------------------------------------\n"
     ]
    }
   ],
   "source": [
    "!pip install torchsummary\n",
    "from torchsummary import summary\n",
    "use_cuda = torch.cuda.is_available()\n",
    "device = torch.device(\"cuda\" if use_cuda else \"cpu\")\n",
    "model = Net().to(device)\n",
    "summary(model, input_size=(1, 28, 28))"
   ]
  },
  {
   "cell_type": "code",
   "execution_count": 121,
   "metadata": {
    "id": "DqTWLaM5GHgH"
   },
   "outputs": [],
   "source": [
    "\n",
    "\n",
    "torch.manual_seed(1)\n",
    "batch_size = 128\n",
    "\n",
    "kwargs = {'num_workers': 1, 'pin_memory': True} if use_cuda else {}\n",
    "train_loader = torch.utils.data.DataLoader(\n",
    "    datasets.MNIST('../data', train=True, download=True,\n",
    "                    transform=transforms.Compose([\n",
    "                        #transforms.RandomAffine(degrees=20, translate=(0.1,0.1), scale=(0.9, 1.1)),\n",
    "                        transforms.ToTensor(),\n",
    "                        transforms.Normalize((0.1307,), (0.3081,))\n",
    "                    ])),\n",
    "    batch_size=batch_size, shuffle=True, **kwargs)\n",
    "test_loader = torch.utils.data.DataLoader(\n",
    "    datasets.MNIST('../data', train=False, transform=transforms.Compose([\n",
    "                        transforms.ToTensor(),\n",
    "                        transforms.Normalize((0.1307,), (0.3081,))\n",
    "                    ])),\n",
    "    batch_size=batch_size, shuffle=True, **kwargs)\n"
   ]
  },
  {
   "cell_type": "code",
   "execution_count": 122,
   "metadata": {
    "id": "8fDefDhaFlwH"
   },
   "outputs": [],
   "source": [
    "from tqdm import tqdm\n",
    "def train(model, device, train_loader, optimizer, epoch):\n",
    "    model.train()\n",
    "    pbar = tqdm(train_loader)\n",
    "    for batch_idx, (data, target) in enumerate(pbar):\n",
    "        data, target = data.to(device), target.to(device)\n",
    "        optimizer.zero_grad()\n",
    "        output = model(data)\n",
    "        loss = F.nll_loss(output, target)\n",
    "        loss.backward()\n",
    "        optimizer.step()\n",
    "        pbar.set_description(desc= f'loss={loss.item()} batch_id={batch_idx}')\n",
    "\n",
    "\n",
    "def test(model, device, test_loader):\n",
    "    model.eval()\n",
    "    test_loss = 0\n",
    "    correct = 0\n",
    "    with torch.no_grad():\n",
    "        for data, target in test_loader:\n",
    "            data, target = data.to(device), target.to(device)\n",
    "            output = model(data)\n",
    "            test_loss += F.nll_loss(output, target, reduction='sum').item()  # sum up batch loss\n",
    "            pred = output.argmax(dim=1, keepdim=True)  # get the index of the max log-probability\n",
    "            correct += pred.eq(target.view_as(pred)).sum().item()\n",
    "\n",
    "    test_loss /= len(test_loader.dataset)\n",
    "\n",
    "    print('\\nTest set: Average loss: {:.4f}, Accuracy: {}/{} ({:.3f}%)\\n'.format(\n",
    "        test_loss, correct, len(test_loader.dataset),\n",
    "        100. * correct / len(test_loader.dataset)))"
   ]
  },
  {
   "cell_type": "code",
   "execution_count": 123,
   "metadata": {
    "id": "MMWbLWO6FuHb"
   },
   "outputs": [
    {
     "name": "stderr",
     "output_type": "stream",
     "text": [
      "loss=0.06954780220985413 batch_id=468: 100%|█████████████████████████████████████████| 469/469 [00:07<00:00, 62.97it/s]\n",
      "  0%|                                                                                          | 0/469 [00:00<?, ?it/s]"
     ]
    },
    {
     "name": "stdout",
     "output_type": "stream",
     "text": [
      "\n",
      "Test set: Average loss: 0.0602, Accuracy: 9813/10000 (98.130%)\n",
      "\n"
     ]
    },
    {
     "name": "stderr",
     "output_type": "stream",
     "text": [
      "loss=0.12302249670028687 batch_id=468: 100%|█████████████████████████████████████████| 469/469 [00:07<00:00, 64.06it/s]\n",
      "  0%|                                                                                          | 0/469 [00:00<?, ?it/s]"
     ]
    },
    {
     "name": "stdout",
     "output_type": "stream",
     "text": [
      "\n",
      "Test set: Average loss: 0.0377, Accuracy: 9876/10000 (98.760%)\n",
      "\n"
     ]
    },
    {
     "name": "stderr",
     "output_type": "stream",
     "text": [
      "loss=0.08916524052619934 batch_id=468: 100%|█████████████████████████████████████████| 469/469 [00:07<00:00, 65.95it/s]\n",
      "  0%|                                                                                          | 0/469 [00:00<?, ?it/s]"
     ]
    },
    {
     "name": "stdout",
     "output_type": "stream",
     "text": [
      "\n",
      "Test set: Average loss: 0.0375, Accuracy: 9871/10000 (98.710%)\n",
      "\n"
     ]
    },
    {
     "name": "stderr",
     "output_type": "stream",
     "text": [
      "loss=0.017120037227869034 batch_id=468: 100%|████████████████████████████████████████| 469/469 [00:07<00:00, 64.51it/s]\n",
      "  0%|                                                                                          | 0/469 [00:00<?, ?it/s]"
     ]
    },
    {
     "name": "stdout",
     "output_type": "stream",
     "text": [
      "\n",
      "Test set: Average loss: 0.0287, Accuracy: 9903/10000 (99.030%)\n",
      "\n"
     ]
    },
    {
     "name": "stderr",
     "output_type": "stream",
     "text": [
      "loss=0.025380494073033333 batch_id=468: 100%|████████████████████████████████████████| 469/469 [00:07<00:00, 66.14it/s]\n",
      "  0%|                                                                                          | 0/469 [00:00<?, ?it/s]"
     ]
    },
    {
     "name": "stdout",
     "output_type": "stream",
     "text": [
      "\n",
      "Test set: Average loss: 0.0268, Accuracy: 9918/10000 (99.180%)\n",
      "\n"
     ]
    },
    {
     "name": "stderr",
     "output_type": "stream",
     "text": [
      "loss=0.049108535051345825 batch_id=468: 100%|████████████████████████████████████████| 469/469 [00:07<00:00, 64.47it/s]\n",
      "  0%|                                                                                          | 0/469 [00:00<?, ?it/s]"
     ]
    },
    {
     "name": "stdout",
     "output_type": "stream",
     "text": [
      "\n",
      "Test set: Average loss: 0.0281, Accuracy: 9913/10000 (99.130%)\n",
      "\n"
     ]
    },
    {
     "name": "stderr",
     "output_type": "stream",
     "text": [
      "loss=0.017229845747351646 batch_id=468: 100%|████████████████████████████████████████| 469/469 [00:07<00:00, 63.49it/s]\n",
      "  0%|                                                                                          | 0/469 [00:00<?, ?it/s]"
     ]
    },
    {
     "name": "stdout",
     "output_type": "stream",
     "text": [
      "\n",
      "Test set: Average loss: 0.0225, Accuracy: 9930/10000 (99.300%)\n",
      "\n"
     ]
    },
    {
     "name": "stderr",
     "output_type": "stream",
     "text": [
      "loss=0.005014196503907442 batch_id=468: 100%|████████████████████████████████████████| 469/469 [00:07<00:00, 62.41it/s]\n",
      "  0%|                                                                                          | 0/469 [00:00<?, ?it/s]"
     ]
    },
    {
     "name": "stdout",
     "output_type": "stream",
     "text": [
      "\n",
      "Test set: Average loss: 0.0222, Accuracy: 9930/10000 (99.300%)\n",
      "\n"
     ]
    },
    {
     "name": "stderr",
     "output_type": "stream",
     "text": [
      "loss=0.032613128423690796 batch_id=468: 100%|████████████████████████████████████████| 469/469 [00:07<00:00, 60.28it/s]\n",
      "  0%|                                                                                          | 0/469 [00:00<?, ?it/s]"
     ]
    },
    {
     "name": "stdout",
     "output_type": "stream",
     "text": [
      "\n",
      "Test set: Average loss: 0.0227, Accuracy: 9930/10000 (99.300%)\n",
      "\n"
     ]
    },
    {
     "name": "stderr",
     "output_type": "stream",
     "text": [
      "loss=0.020019102841615677 batch_id=468: 100%|████████████████████████████████████████| 469/469 [00:07<00:00, 63.47it/s]\n",
      "  0%|                                                                                          | 0/469 [00:00<?, ?it/s]"
     ]
    },
    {
     "name": "stdout",
     "output_type": "stream",
     "text": [
      "\n",
      "Test set: Average loss: 0.0214, Accuracy: 9926/10000 (99.260%)\n",
      "\n"
     ]
    },
    {
     "name": "stderr",
     "output_type": "stream",
     "text": [
      "loss=0.02367182821035385 batch_id=468: 100%|█████████████████████████████████████████| 469/469 [00:07<00:00, 62.55it/s]\n",
      "  0%|                                                                                          | 0/469 [00:00<?, ?it/s]"
     ]
    },
    {
     "name": "stdout",
     "output_type": "stream",
     "text": [
      "\n",
      "Test set: Average loss: 0.0219, Accuracy: 9934/10000 (99.340%)\n",
      "\n"
     ]
    },
    {
     "name": "stderr",
     "output_type": "stream",
     "text": [
      "loss=0.09788373112678528 batch_id=468: 100%|█████████████████████████████████████████| 469/469 [00:08<00:00, 58.58it/s]\n",
      "  0%|                                                                                          | 0/469 [00:00<?, ?it/s]"
     ]
    },
    {
     "name": "stdout",
     "output_type": "stream",
     "text": [
      "\n",
      "Test set: Average loss: 0.0235, Accuracy: 9926/10000 (99.260%)\n",
      "\n"
     ]
    },
    {
     "name": "stderr",
     "output_type": "stream",
     "text": [
      "loss=0.1105009913444519 batch_id=468: 100%|██████████████████████████████████████████| 469/469 [00:07<00:00, 59.45it/s]\n",
      "  0%|                                                                                          | 0/469 [00:00<?, ?it/s]"
     ]
    },
    {
     "name": "stdout",
     "output_type": "stream",
     "text": [
      "\n",
      "Test set: Average loss: 0.0198, Accuracy: 9931/10000 (99.310%)\n",
      "\n"
     ]
    },
    {
     "name": "stderr",
     "output_type": "stream",
     "text": [
      "loss=0.009554632939398289 batch_id=468: 100%|████████████████████████████████████████| 469/469 [00:07<00:00, 64.34it/s]\n",
      "  0%|                                                                                          | 0/469 [00:00<?, ?it/s]"
     ]
    },
    {
     "name": "stdout",
     "output_type": "stream",
     "text": [
      "\n",
      "Test set: Average loss: 0.0192, Accuracy: 9943/10000 (99.430%)\n",
      "\n"
     ]
    },
    {
     "name": "stderr",
     "output_type": "stream",
     "text": [
      "loss=0.03342946991324425 batch_id=468: 100%|█████████████████████████████████████████| 469/469 [00:07<00:00, 59.84it/s]\n",
      "  0%|                                                                                          | 0/469 [00:00<?, ?it/s]"
     ]
    },
    {
     "name": "stdout",
     "output_type": "stream",
     "text": [
      "\n",
      "Test set: Average loss: 0.0200, Accuracy: 9933/10000 (99.330%)\n",
      "\n"
     ]
    },
    {
     "name": "stderr",
     "output_type": "stream",
     "text": [
      "loss=0.005240764934569597 batch_id=468: 100%|████████████████████████████████████████| 469/469 [00:07<00:00, 61.20it/s]\n",
      "  0%|                                                                                          | 0/469 [00:00<?, ?it/s]"
     ]
    },
    {
     "name": "stdout",
     "output_type": "stream",
     "text": [
      "\n",
      "Test set: Average loss: 0.0210, Accuracy: 9931/10000 (99.310%)\n",
      "\n"
     ]
    },
    {
     "name": "stderr",
     "output_type": "stream",
     "text": [
      "loss=0.0035602024290710688 batch_id=468: 100%|███████████████████████████████████████| 469/469 [00:07<00:00, 62.95it/s]\n",
      "  0%|                                                                                          | 0/469 [00:00<?, ?it/s]"
     ]
    },
    {
     "name": "stdout",
     "output_type": "stream",
     "text": [
      "\n",
      "Test set: Average loss: 0.0201, Accuracy: 9936/10000 (99.360%)\n",
      "\n"
     ]
    },
    {
     "name": "stderr",
     "output_type": "stream",
     "text": [
      "loss=0.002191451843827963 batch_id=468: 100%|████████████████████████████████████████| 469/469 [00:07<00:00, 60.46it/s]\n",
      "  0%|                                                                                          | 0/469 [00:00<?, ?it/s]"
     ]
    },
    {
     "name": "stdout",
     "output_type": "stream",
     "text": [
      "\n",
      "Test set: Average loss: 0.0191, Accuracy: 9941/10000 (99.410%)\n",
      "\n"
     ]
    },
    {
     "name": "stderr",
     "output_type": "stream",
     "text": [
      "loss=0.012400250881910324 batch_id=468: 100%|████████████████████████████████████████| 469/469 [00:07<00:00, 65.15it/s]\n",
      "  0%|                                                                                          | 0/469 [00:00<?, ?it/s]"
     ]
    },
    {
     "name": "stdout",
     "output_type": "stream",
     "text": [
      "\n",
      "Test set: Average loss: 0.0198, Accuracy: 9938/10000 (99.380%)\n",
      "\n"
     ]
    },
    {
     "name": "stderr",
     "output_type": "stream",
     "text": [
      "loss=0.022418051958084106 batch_id=468: 100%|████████████████████████████████████████| 469/469 [00:07<00:00, 59.54it/s]\n"
     ]
    },
    {
     "name": "stdout",
     "output_type": "stream",
     "text": [
      "\n",
      "Test set: Average loss: 0.0197, Accuracy: 9936/10000 (99.360%)\n",
      "\n"
     ]
    }
   ],
   "source": [
    "\n",
    "model = Net().to(device)\n",
    "optimizer = optim.SGD(model.parameters(), lr=0.01, momentum=0.9)\n",
    "\n",
    "for epoch in range(0, 20):\n",
    "    train(model, device, train_loader, optimizer, epoch)\n",
    "    test(model, device, test_loader)"
   ]
  },
  {
   "cell_type": "code",
   "execution_count": null,
   "metadata": {
    "id": "So5uk4EkHW6R"
   },
   "outputs": [],
   "source": []
  }
 ],
 "metadata": {
  "accelerator": "GPU",
  "colab": {
   "provenance": []
  },
  "kernelspec": {
   "display_name": "Python 3 (ipykernel)",
   "language": "python",
   "name": "python3"
  },
  "language_info": {
   "codemirror_mode": {
    "name": "ipython",
    "version": 3
   },
   "file_extension": ".py",
   "mimetype": "text/x-python",
   "name": "python",
   "nbconvert_exporter": "python",
   "pygments_lexer": "ipython3",
   "version": "3.9.18"
  }
 },
 "nbformat": 4,
 "nbformat_minor": 4
}
